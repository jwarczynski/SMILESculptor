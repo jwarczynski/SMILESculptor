{
 "cells": [
  {
   "cell_type": "code",
   "id": "initial_id",
   "metadata": {
    "collapsed": true,
    "ExecuteTime": {
     "end_time": "2024-12-25T13:56:38.369806Z",
     "start_time": "2024-12-25T13:56:33.163288Z"
    }
   },
   "source": [
    "import torch\n",
    "from lightning import seed_everything\n",
    "\n",
    "\n",
    "seed_everything(42)\n",
    "# torch.manual_seed(42)\n",
    "# torch.cuda.manual_seed(42)\n"
   ],
   "outputs": [
    {
     "name": "stderr",
     "output_type": "stream",
     "text": [
      "Seed set to 42\n"
     ]
    },
    {
     "data": {
      "text/plain": [
       "42"
      ]
     },
     "execution_count": 1,
     "metadata": {},
     "output_type": "execute_result"
    }
   ],
   "execution_count": 1
  },
  {
   "metadata": {
    "ExecuteTime": {
     "end_time": "2024-12-25T13:56:45.207852Z",
     "start_time": "2024-12-25T13:56:45.196808Z"
    }
   },
   "cell_type": "code",
   "source": [
    "linear = [torch.nn.Linear(5, 2), torch.nn.Tanh()]\n",
    "seq = torch.nn.Sequential(*linear)\n",
    "x = torch.rand(5)\n",
    "seq(x)\n"
   ],
   "id": "3c1ad808df7f7c1c",
   "outputs": [
    {
     "data": {
      "text/plain": [
       "tensor([0.7205, 0.1115], grad_fn=<TanhBackward0>)"
      ]
     },
     "execution_count": 2,
     "metadata": {},
     "output_type": "execute_result"
    }
   ],
   "execution_count": 2
  },
  {
   "metadata": {
    "ExecuteTime": {
     "end_time": "2024-12-25T13:56:20.031168Z",
     "start_time": "2024-12-25T13:56:20.021565Z"
    }
   },
   "cell_type": "code",
   "source": [
    "linear = torch.nn.Linear(5, 2)\n",
    "x = torch.rand(5)\n",
    "torch.tanh(linear(x))"
   ],
   "id": "18548aa5e149bfdc",
   "outputs": [
    {
     "data": {
      "text/plain": [
       "tensor([0.7205, 0.1115], grad_fn=<TanhBackward0>)"
      ]
     },
     "execution_count": 2,
     "metadata": {},
     "output_type": "execute_result"
    }
   ],
   "execution_count": 2
  },
  {
   "metadata": {
    "ExecuteTime": {
     "end_time": "2024-12-25T13:52:49.517236Z",
     "start_time": "2024-12-25T13:52:49.511714Z"
    }
   },
   "cell_type": "code",
   "source": [
    "linear2 = torch.nn.Linear(5, 2)\n",
    "linear2(x)"
   ],
   "id": "63b99ce87079f4d0",
   "outputs": [
    {
     "data": {
      "text/plain": [
       "tensor([-0.3804, -0.4093], grad_fn=<ViewBackward0>)"
      ]
     },
     "execution_count": 6,
     "metadata": {},
     "output_type": "execute_result"
    }
   ],
   "execution_count": 6
  },
  {
   "metadata": {},
   "cell_type": "code",
   "outputs": [],
   "execution_count": null,
   "source": "",
   "id": "67ce3b1efc8de9db"
  }
 ],
 "metadata": {
  "kernelspec": {
   "display_name": "Python 3",
   "language": "python",
   "name": "python3"
  },
  "language_info": {
   "codemirror_mode": {
    "name": "ipython",
    "version": 2
   },
   "file_extension": ".py",
   "mimetype": "text/x-python",
   "name": "python",
   "nbconvert_exporter": "python",
   "pygments_lexer": "ipython2",
   "version": "2.7.6"
  }
 },
 "nbformat": 4,
 "nbformat_minor": 5
}
