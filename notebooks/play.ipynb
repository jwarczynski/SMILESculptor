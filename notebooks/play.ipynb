{
 "cells": [
  {
   "metadata": {
    "ExecuteTime": {
     "end_time": "2024-12-25T10:22:36.809012Z",
     "start_time": "2024-12-25T10:22:36.789896Z"
    }
   },
   "cell_type": "code",
   "source": [
    "import itertools\n",
    "import numpy as np\n",
    "from collections import Counter\n",
    "from collections.abc import Iterable\n",
    "\n",
    "def remove_from_list(l, items):\n",
    "    items = [items] if not isinstance(items, Iterable) else items\n",
    "    return [el for el in l if el not in items]\n",
    "\n",
    "def nonDivisibleSubset(k, s):\n",
    "    s = set(s)\n",
    "    pairs_divisble_by_k = [pair for pair in itertools.combinations(s, 2) if sum(pair) % k == 0]\n",
    "    flatten_pairs = list(itertools.chain(*pairs_divisble_by_k))\n",
    "    solution = s.difference(set(flatten_pairs))\n",
    "    counter = Counter(flatten_pairs)\n",
    "    candidates = [k for k,v in sorted(list(counter.items()), key=lambda x: x[1])]\n",
    "    \n",
    "    while candidates:\n",
    "        candidate = candidates[0]\n",
    "        for pair in pairs_divisble_by_k:\n",
    "            if set(pair).intersection([candidate]):\n",
    "                candidates = remove_from_list(candidates, pair)\n",
    "        solution.add(candidate)\n",
    "        \n",
    "    return solution\n",
    "\n",
    "\n",
    "def nonDivisibleSubset(k, s):\n",
    "    solution = {s[0]}\n",
    "    forbidden_remainders = {k-s[0]%k}\n",
    "    for candidate in s[1:]:\n",
    "        if candidate % k not in forbidden_remainders:\n",
    "            solution.add(candidate)\n",
    "            forbidden_remainders.add(k - candidate % k)\n",
    "    \n",
    "    return solution\n",
    "\n",
    "def nonDivisibleSubset(k, s):\n",
    "    s = [el % k for el in s]\n",
    "    counter = Counter(s)\n",
    "    result = 1 if 0 in counter else 0 \n",
    "    for i in range(1, k // 2 + 1):\n",
    "        if i == k-i:\n",
    "            if i in counter:\n",
    "                result += 1\n",
    "                break\n",
    "        if counter[i] > counter[k-i]:\n",
    "            result += counter[i]\n",
    "        else:\n",
    "            result += counter[k-i]\n",
    "    return result\n",
    "            \n",
    "def is_correct(k, s):\n",
    "    return len([pair for pair in itertools.combinations(s, 2) if sum(pair) % k == 0]) == 0\n"
   ],
   "id": "571390adcae4b388",
   "outputs": [],
   "execution_count": 18
  },
  {
   "metadata": {
    "ExecuteTime": {
     "end_time": "2024-12-25T10:22:45.372710Z",
     "start_time": "2024-12-25T10:22:45.356463Z"
    }
   },
   "cell_type": "code",
   "source": [
    "s = list(map(int, \"278 576 496 727 410 124 338 149 209 702 282 718 771 575 436\".split()))\n",
    "k = 7\n",
    "remainders = [el % k for el in s]\n",
    "print(remainders)\n",
    "c = Counter(remainders)\n",
    "print(c)\n",
    "0 in c\n"
   ],
   "id": "742f674831d117ea",
   "outputs": [
    {
     "name": "stdout",
     "output_type": "stream",
     "text": [
      "[5, 2, 6, 6, 4, 5, 2, 2, 6, 2, 2, 4, 1, 1, 2]\n",
      "Counter({2: 6, 6: 3, 5: 2, 4: 2, 1: 2})\n"
     ]
    },
    {
     "data": {
      "text/plain": [
       "False"
      ]
     },
     "execution_count": 20,
     "metadata": {},
     "output_type": "execute_result"
    }
   ],
   "execution_count": 20
  },
  {
   "metadata": {
    "ExecuteTime": {
     "end_time": "2024-12-25T10:22:46.026961Z",
     "start_time": "2024-12-25T10:22:46.022407Z"
    }
   },
   "cell_type": "code",
   "source": [
    "s = list(map(int, \"1 7 2 4\".split()))\n",
    "s = list(map(int, \"0 4 4 0 5 2 6 6 6 6\".split()))\n",
    "sol = nonDivisibleSubset(8, s)\n",
    "print(sol)\n",
    "# is_correct(7, sol)"
   ],
   "id": "f4fe1dde89f21105",
   "outputs": [
    {
     "name": "stdout",
     "output_type": "stream",
     "text": [
      "7\n"
     ]
    }
   ],
   "execution_count": 21
  },
  {
   "metadata": {
    "ExecuteTime": {
     "end_time": "2024-12-25T10:41:38.190740Z",
     "start_time": "2024-12-25T10:41:38.180282Z"
    }
   },
   "cell_type": "code",
   "source": [
    "class CustomList(list):\n",
    "    def remove(self, *args):\n",
    "        \"\"\"Remove multiple elements from the list.\"\"\"\n",
    "        for item in args:\n",
    "            while item in self:\n",
    "                super().remove(item)\n",
    "\n",
    "# Example usage\n",
    "my_custom_list = CustomList([1, 1, 2, 3, 4, 5, 2, 6])\n",
    "print(\"Original List:\", my_custom_list)  # Output: [1, 2, 3, 4, 5, 2, 6]\n",
    "\n",
    "# Remove multiple elements\n",
    "my_custom_list.remove(1, 2)\n",
    "print(\"After Removal:\", my_custom_list)   # Output: [1, 3, 5, 6]\n",
    "my_custom_list += [1]\n",
    "my_custom_list.remove(5)\n",
    "my_custom_list"
   ],
   "id": "2f62f7105431a0f6",
   "outputs": [
    {
     "name": "stdout",
     "output_type": "stream",
     "text": [
      "Original List: [1, 1, 2, 3, 4, 5, 2, 6]\n",
      "After Removal: [1, 3, 4, 5, 2, 6]\n"
     ]
    },
    {
     "data": {
      "text/plain": [
       "[1, 3, 4, 2, 6, 1]"
      ]
     },
     "execution_count": 28,
     "metadata": {},
     "output_type": "execute_result"
    }
   ],
   "execution_count": 28
  },
  {
   "metadata": {
    "ExecuteTime": {
     "end_time": "2024-12-24T20:34:05.171692Z",
     "start_time": "2024-12-24T20:34:05.166922Z"
    }
   },
   "cell_type": "code",
   "source": [
    "def test(tests):\n",
    "    for _ in range(tests):\n",
    "        k = np.random.randint(2, 11)\n",
    "        S = np.random.randint(1, 10000, 100)\n",
    "        sol = nonDivisibleSubset(k, S)\n",
    "        if not is_correct(k, sol):\n",
    "            print(f'failed for k: {k}, S: {S}')\n",
    "            return k, S"
   ],
   "id": "8058041d94debec1",
   "outputs": [],
   "execution_count": 111
  },
  {
   "metadata": {
    "ExecuteTime": {
     "end_time": "2024-12-24T20:34:20.309993Z",
     "start_time": "2024-12-24T20:34:05.480013Z"
    }
   },
   "cell_type": "code",
   "source": "test(1000)",
   "id": "36fcab834351fe0d",
   "outputs": [],
   "execution_count": 112
  },
  {
   "metadata": {
    "ExecuteTime": {
     "end_time": "2024-12-25T13:39:35.756315Z",
     "start_time": "2024-12-25T13:39:35.750827Z"
    }
   },
   "cell_type": "code",
   "source": [
    "losses = [\"bce\", \"ce\"]\n",
    "data = [\n",
    "    (\"data/moles_ohe_no_stereo_sv_500k.npy\", \"data/sv_no_stereo_500.pkl\"),\n",
    "    (\"data/moles_ohe_500k.npy\", \"data/vec_ohe_500k.pkl\")\n",
    "]\n",
    "run_names = [\"bce_l_data\", \"bce_n_data\", \"ce_l_data\", \"ce_n_data\", ]\n",
    "\n",
    "import itertools\n",
    "\n",
    "for i , (loss, (moles_path, vectorizer_path)) in enumerate(itertools.product(losses, data)):\n",
    "    print(run_names[i])\n",
    "    print(f\"loss: {loss}, moles_path: {moles_path}, vectorizer_path: {vectorizer_path}\")"
   ],
   "id": "a7352d816c1c63e6",
   "outputs": [
    {
     "name": "stdout",
     "output_type": "stream",
     "text": [
      "bce_l_data\n",
      "loss: bce, moles_path: data/moles_ohe_no_stereo_sv_500k.npy, vectorizer_path: data/sv_no_stereo_500.pkl\n",
      "bce_n_data\n",
      "loss: bce, moles_path: data/moles_ohe_500k.npy, vectorizer_path: data/vec_ohe_500k.pkl\n",
      "ce_l_data\n",
      "loss: ce, moles_path: data/moles_ohe_no_stereo_sv_500k.npy, vectorizer_path: data/sv_no_stereo_500.pkl\n",
      "ce_n_data\n",
      "loss: ce, moles_path: data/moles_ohe_500k.npy, vectorizer_path: data/vec_ohe_500k.pkl\n"
     ]
    }
   ],
   "execution_count": 31
  },
  {
   "metadata": {},
   "cell_type": "code",
   "outputs": [],
   "execution_count": null,
   "source": "",
   "id": "a4928ee475708ca"
  }
 ],
 "metadata": {
  "kernelspec": {
   "display_name": "Python 3",
   "language": "python",
   "name": "python3"
  },
  "language_info": {
   "codemirror_mode": {
    "name": "ipython",
    "version": 2
   },
   "file_extension": ".py",
   "mimetype": "text/x-python",
   "name": "python",
   "nbconvert_exporter": "python",
   "pygments_lexer": "ipython2",
   "version": "2.7.6"
  }
 },
 "nbformat": 4,
 "nbformat_minor": 5
}
