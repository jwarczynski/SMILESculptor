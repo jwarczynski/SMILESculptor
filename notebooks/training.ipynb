{
 "cells": [
  {
   "cell_type": "code",
   "id": "initial_id",
   "metadata": {
    "collapsed": true,
    "ExecuteTime": {
     "end_time": "2025-01-04T21:20:30.744449Z",
     "start_time": "2025-01-04T21:20:30.739553Z"
    }
   },
   "source": [
    "import os\n",
    "import sys\n",
    "\n",
    "# append the path of the project to sys.path\n",
    "sys.path.append(os.path.abspath(os.path.join(os.getcwd(), \"../src\")))\n",
    "os.chdir(\"../src\")"
   ],
   "outputs": [],
   "execution_count": 1
  },
  {
   "metadata": {
    "ExecuteTime": {
     "end_time": "2025-01-04T21:20:38.142364Z",
     "start_time": "2025-01-04T21:20:30.765090Z"
    }
   },
   "cell_type": "code",
   "source": [
    "from lightning import seed_everything\n",
    "seed_everything(42, workers=True)"
   ],
   "id": "5fd2b4a8214e0c4b",
   "outputs": [
    {
     "name": "stderr",
     "output_type": "stream",
     "text": [
      "Seed set to 42\n"
     ]
    },
    {
     "data": {
      "text/plain": [
       "42"
      ]
     },
     "execution_count": 2,
     "metadata": {},
     "output_type": "execute_result"
    }
   ],
   "execution_count": 2
  },
  {
   "metadata": {
    "ExecuteTime": {
     "end_time": "2025-01-04T21:20:39.538215Z",
     "start_time": "2025-01-04T21:20:38.469817Z"
    }
   },
   "cell_type": "code",
   "source": [
    "from src.models import MOVVAELightning\n",
    "import yaml"
   ],
   "id": "683da5cad1134a7b",
   "outputs": [],
   "execution_count": 3
  },
  {
   "metadata": {
    "ExecuteTime": {
     "end_time": "2025-01-04T21:20:39.559488Z",
     "start_time": "2025-01-04T21:20:39.546137Z"
    }
   },
   "cell_type": "code",
   "source": [
    "# Load the configuration file\n",
    "config_path = \"../configs/movae_config.yml\"\n",
    "with open(config_path, \"r\") as file:\n",
    "    config = yaml.safe_load(file)"
   ],
   "id": "1a3b785171920c74",
   "outputs": [],
   "execution_count": 4
  },
  {
   "metadata": {
    "ExecuteTime": {
     "end_time": "2025-01-04T21:20:39.601021Z",
     "start_time": "2025-01-04T21:20:39.597675Z"
    }
   },
   "cell_type": "code",
   "source": [
    "import torch\n",
    "\n",
    "torch.set_float32_matmul_precision(\"high\")"
   ],
   "id": "bd6e88f930dc8488",
   "outputs": [],
   "execution_count": 5
  },
  {
   "metadata": {
    "ExecuteTime": {
     "end_time": "2025-01-04T21:20:40.529173Z",
     "start_time": "2025-01-04T21:20:39.608976Z"
    }
   },
   "cell_type": "code",
   "source": [
    "from src.data_loader import LightningMoleDataModule\n",
    "\n",
    "data_path = \"../data/moles_ohe_no_stereo_sv_500k.npy\"\n",
    "data_module = LightningMoleDataModule(data_path, batch_size=2048, seed=42)"
   ],
   "id": "7df9dff8cbe3968e",
   "outputs": [],
   "execution_count": 6
  },
  {
   "metadata": {
    "ExecuteTime": {
     "end_time": "2025-01-04T21:20:40.542587Z",
     "start_time": "2025-01-04T21:20:40.537320Z"
    }
   },
   "cell_type": "code",
   "source": [
    "import pickle\n",
    "with open(\"../data/int_to_char_no_stereo_sv_500k.pkl\", \"rb\") as file:\n",
    "    int_to_char = pickle.load(file)"
   ],
   "id": "9be54f158eb0cd0f",
   "outputs": [],
   "execution_count": 7
  },
  {
   "metadata": {
    "ExecuteTime": {
     "end_time": "2025-01-04T21:20:40.560429Z",
     "start_time": "2025-01-04T21:20:40.556538Z"
    }
   },
   "cell_type": "code",
   "source": "print(int_to_char)",
   "id": "30e6250c1cb51db2",
   "outputs": [
    {
     "name": "stdout",
     "output_type": "stream",
     "text": [
      "{0: 'N', 1: 'O', 2: 'H', 3: 'S', 4: '2', 5: '-', 6: ']', 7: '1', 8: 'C', 9: '3', 10: '4', 11: 'r', 12: '[', 13: 'P', 14: '6', 15: 'l', 16: 'F', 17: '=', 18: '#', 19: 'c', 20: 'o', 21: '+', 22: 'I', 23: 'n', 24: '(', 25: 'B', 26: 's', 27: '5', 28: ')', 29: 'i', 30: '^', 31: '$', 32: '?'}\n"
     ]
    }
   ],
   "execution_count": 8
  },
  {
   "metadata": {
    "ExecuteTime": {
     "end_time": "2025-01-04T21:20:40.678319Z",
     "start_time": "2025-01-04T21:20:40.672758Z"
    }
   },
   "cell_type": "code",
   "source": [
    "seq_len = data_module.seq_length\n",
    "charset_size = len(int_to_char)\n",
    "\n",
    "model_config = config.get(\"model\", {})\n",
    "model_config[\"args\"][\"lr\"] = 1e-3\n",
    "model_config"
   ],
   "id": "d18574256f6a93e1",
   "outputs": [
    {
     "data": {
      "text/plain": [
       "{'name': 'MOVVAELightning',\n",
       " 'args': {'kl_weight': 1,\n",
       "  'lr': 0.001,\n",
       "  'params': {'encoder_params': {'conv_layers': {'conv_1': {'out_channels': 9,\n",
       "      'kernel_size': 9,\n",
       "      'activation': 'Tanh',\n",
       "      'batch_norm': True,\n",
       "      'name': 'encoder_conv_1'},\n",
       "     'conv_2': {'out_channels': 9,\n",
       "      'kernel_size': 9,\n",
       "      'activation': 'Tanh',\n",
       "      'batch_norm': True,\n",
       "      'name': 'encoder_conv_2'},\n",
       "     'conv_3': {'out_channels': 10,\n",
       "      'kernel_size': 11,\n",
       "      'activation': 'Tanh',\n",
       "      'batch_norm': True,\n",
       "      'name': 'encoder_conv_3'}},\n",
       "    'flatten_layers': {'name': 'encoder_flatten'},\n",
       "    'dense_layers': {'dense_1': {'dimension': 436,\n",
       "      'activation': 'Tanh',\n",
       "      'name': 'encoder_dense_1',\n",
       "      'dropout': 0.083,\n",
       "      'batch_norm': True}},\n",
       "    'sampling_layers': {'activation': 'Tanh', 'mean': 0.0, 'stddev': 0.01},\n",
       "    'latent_dimension': 192},\n",
       "   'decoder_params': {'latent_dimension': 192,\n",
       "    'dense_layers': {'dense_1': {'dimension': 436,\n",
       "      'activation': 'Tanh',\n",
       "      'name': 'encoder_dense_1',\n",
       "      'dropout': 0.1,\n",
       "      'batch_norm': True}},\n",
       "    'recurrent_layers': {'num_layers': 3,\n",
       "     'dimension': 488,\n",
       "     'activation': 'Tanh'}}}}}"
      ]
     },
     "execution_count": 9,
     "metadata": {},
     "output_type": "execute_result"
    }
   ],
   "execution_count": 9
  },
  {
   "metadata": {
    "ExecuteTime": {
     "end_time": "2025-01-04T21:20:40.781052Z",
     "start_time": "2025-01-04T21:20:40.728899Z"
    }
   },
   "cell_type": "code",
   "source": [
    "model = MOVVAELightning(\n",
    "    **model_config[\"args\"],\n",
    "    seq_len=seq_len,\n",
    "    charset_size=charset_size,\n",
    "    int_to_char=int_to_char,\n",
    "    loss=\"ce\",\n",
    "    ignore_character=\"?\"\n",
    ")\n",
    "model.model"
   ],
   "id": "a3d638420b532535",
   "outputs": [
    {
     "data": {
      "text/plain": [
       "MOVAE(\n",
       "  (encoder): MOAVEncoder(\n",
       "    (flatten): Flatten(start_dim=1, end_dim=-1)\n",
       "    (conv_layers): Sequential(\n",
       "      (0): Conv1d(33, 9, kernel_size=(9,), stride=(1,))\n",
       "      (1): BatchNorm1d(9, eps=1e-05, momentum=0.1, affine=True, track_running_stats=True)\n",
       "      (2): Tanh()\n",
       "      (3): Conv1d(9, 9, kernel_size=(9,), stride=(1,))\n",
       "      (4): BatchNorm1d(9, eps=1e-05, momentum=0.1, affine=True, track_running_stats=True)\n",
       "      (5): Tanh()\n",
       "      (6): Conv1d(9, 10, kernel_size=(11,), stride=(1,))\n",
       "      (7): BatchNorm1d(10, eps=1e-05, momentum=0.1, affine=True, track_running_stats=True)\n",
       "      (8): Tanh()\n",
       "    )\n",
       "    (dense_layers): Sequential(\n",
       "      (0): Linear(in_features=460, out_features=436, bias=True)\n",
       "      (1): BatchNorm1d(436, eps=1e-05, momentum=0.1, affine=True, track_running_stats=True)\n",
       "      (2): Tanh()\n",
       "      (3): Dropout(p=0.083, inplace=False)\n",
       "    )\n",
       "    (sampling_layers): Sequential(\n",
       "      (0): Linear(in_features=436, out_features=384, bias=True)\n",
       "      (1): Tanh()\n",
       "    )\n",
       "  )\n",
       "  (decoder): MOVAEDecoder(\n",
       "    (dense_layers): Sequential(\n",
       "      (0): Linear(in_features=192, out_features=436, bias=True)\n",
       "      (1): BatchNorm1d(436, eps=1e-05, momentum=0.1, affine=True, track_running_stats=True)\n",
       "      (2): Tanh()\n",
       "      (3): Dropout(p=0.1, inplace=False)\n",
       "    )\n",
       "    (recurrent_layers): GRU(436, 488, num_layers=3, batch_first=True)\n",
       "    (output_layer): Linear(in_features=488, out_features=33, bias=True)\n",
       "  )\n",
       ")"
      ]
     },
     "execution_count": 10,
     "metadata": {},
     "output_type": "execute_result"
    }
   ],
   "execution_count": 10
  },
  {
   "metadata": {
    "ExecuteTime": {
     "end_time": "2025-01-04T21:20:59.473330Z",
     "start_time": "2025-01-04T21:20:40.792041Z"
    }
   },
   "cell_type": "code",
   "source": [
    "from lightning.pytorch.loggers import WandbLogger\n",
    "\n",
    "run_name = \"VAE-nbook-ce-step_scheduler15-BS_2048_v1\"\n",
    "wandb_logger = WandbLogger(\n",
    "    project=\"MolsVAE\",\n",
    "    name=run_name,\n",
    "    log_model=True,\n",
    "    config=model_config,\n",
    "    id=\"ovca3kfy\",\n",
    "    resume=\"allow\",\n",
    "    tags=[\"VAE\", \"ce\", \"ignore_idx\", \"batch_size-2048\", \"nbook\", \"step_scheduler15\", \"no-stereo\", \"500k\"]\n",
    ")\n",
    "wandb_logger.watch(model, log=\"all\")"
   ],
   "id": "dfa5c34f90063604",
   "outputs": [
    {
     "name": "stderr",
     "output_type": "stream",
     "text": [
      "wandb: Using wandb-core as the SDK backend.  Please refer to https://wandb.me/wandb-core for more information.\n",
      "wandb: W&B API key is configured. Use `wandb login --relogin` to force relogin\n"
     ]
    },
    {
     "data": {
      "text/plain": [
       "VBox(children=(Label(value='Waiting for wandb.init()...\\r'), FloatProgress(value=0.011288888888925108, max=1.0…"
      ],
      "application/vnd.jupyter.widget-view+json": {
       "version_major": 2,
       "version_minor": 0,
       "model_id": "ad4b5826671e4ace9d9ed542d9471907"
      }
     },
     "metadata": {},
     "output_type": "display_data"
    },
    {
     "data": {
      "text/plain": [
       "<IPython.core.display.HTML object>"
      ],
      "text/html": [
       "Tracking run with wandb version 0.18.6"
      ]
     },
     "metadata": {},
     "output_type": "display_data"
    },
    {
     "data": {
      "text/plain": [
       "<IPython.core.display.HTML object>"
      ],
      "text/html": [
       "Run data is saved locally in <code>.\\wandb\\run-20250104_222048-ovca3kfy</code>"
      ]
     },
     "metadata": {},
     "output_type": "display_data"
    },
    {
     "data": {
      "text/plain": [
       "<IPython.core.display.HTML object>"
      ],
      "text/html": [
       "Resuming run <strong><a href='https://wandb.ai/jedrasowicz/MolsVAE/runs/ovca3kfy' target=\"_blank\">VAE-nbook-ce-step_scheduler15-BS_2048_v1</a></strong> to <a href='https://wandb.ai/jedrasowicz/MolsVAE' target=\"_blank\">Weights & Biases</a> (<a href='https://wandb.me/developer-guide' target=\"_blank\">docs</a>)<br/>"
      ]
     },
     "metadata": {},
     "output_type": "display_data"
    },
    {
     "data": {
      "text/plain": [
       "<IPython.core.display.HTML object>"
      ],
      "text/html": [
       " View project at <a href='https://wandb.ai/jedrasowicz/MolsVAE' target=\"_blank\">https://wandb.ai/jedrasowicz/MolsVAE</a>"
      ]
     },
     "metadata": {},
     "output_type": "display_data"
    },
    {
     "data": {
      "text/plain": [
       "<IPython.core.display.HTML object>"
      ],
      "text/html": [
       " View run at <a href='https://wandb.ai/jedrasowicz/MolsVAE/runs/ovca3kfy' target=\"_blank\">https://wandb.ai/jedrasowicz/MolsVAE/runs/ovca3kfy</a>"
      ]
     },
     "metadata": {},
     "output_type": "display_data"
    },
    {
     "name": "stderr",
     "output_type": "stream",
     "text": [
      "wandb: logging graph, to disable use `wandb.watch(log_graph=False)`\n"
     ]
    }
   ],
   "execution_count": 11
  },
  {
   "metadata": {
    "ExecuteTime": {
     "end_time": "2025-01-04T21:20:59.564052Z",
     "start_time": "2025-01-04T21:20:59.552797Z"
    }
   },
   "cell_type": "code",
   "source": [
    "from lightning.pytorch.callbacks import EarlyStopping, LearningRateFinder, ModelCheckpoint\n",
    "from src.callbacks import EarlyStoppingExt\n",
    "callbacks = []\n",
    "\n",
    "monitor = \"val/cross_entropy_recon_loss\"\n",
    "callbacks.append(\n",
    "    ModelCheckpoint(\n",
    "        monitor=monitor,\n",
    "        save_top_k=3,\n",
    "        mode=\"min\",\n",
    "        dirpath=f\"../checkpoints/{run_name}\",\n",
    "        filename=f'epoch={{epoch:02d}}-step={{step}}-loss={{{monitor}:.2f}}',\n",
    "        save_last=True,\n",
    "        auto_insert_metric_name=False,\n",
    "    )\n",
    ")\n",
    "\n",
    "# callbacks.append(\n",
    "#     EarlyStoppingExt(\n",
    "#         monitor=monitor,\n",
    "#         patience=10,\n",
    "#         mode=\"min\",\n",
    "#         reset_on_improvement=True,\n",
    "#     )\n",
    "# )"
   ],
   "id": "d2aa25f07a428049",
   "outputs": [],
   "execution_count": 12
  },
  {
   "metadata": {
    "ExecuteTime": {
     "end_time": "2025-01-04T21:20:59.687687Z",
     "start_time": "2025-01-04T21:20:59.602825Z"
    }
   },
   "cell_type": "code",
   "source": [
    "from lightning import Trainer\n",
    "\n",
    "trainer = Trainer(\n",
    "    max_epochs=120,\n",
    "    log_every_n_steps=1,\n",
    "    num_sanity_val_steps=0,\n",
    "    limit_train_batches=1.0,\n",
    "    limit_val_batches=1.0,\n",
    "    limit_test_batches=1.0,\n",
    "    enable_progress_bar=True,\n",
    "    enable_checkpointing=True,\n",
    "    enable_model_summary=True,\n",
    "    logger=wandb_logger,\n",
    "    deterministic=True,\n",
    "    accelerator=\"auto\",\n",
    "    devices=1,\n",
    "    callbacks=callbacks,\n",
    ")"
   ],
   "id": "e03320c85d7a33d6",
   "outputs": [
    {
     "name": "stderr",
     "output_type": "stream",
     "text": [
      "GPU available: True (cuda), used: True\n",
      "TPU available: False, using: 0 TPU cores\n",
      "HPU available: False, using: 0 HPUs\n",
      "`Trainer(limit_train_batches=1.0)` was configured so 100% of the batches per epoch will be used..\n",
      "`Trainer(limit_val_batches=1.0)` was configured so 100% of the batches will be used..\n",
      "`Trainer(limit_test_batches=1.0)` was configured so 100% of the batches will be used..\n"
     ]
    }
   ],
   "execution_count": 13
  },
  {
   "metadata": {
    "ExecuteTime": {
     "end_time": "2025-01-04T21:20:59.699355Z",
     "start_time": "2025-01-04T21:20:59.694001Z"
    }
   },
   "cell_type": "code",
   "source": "trainer.fit(model, data_module)",
   "id": "8ae62de9c6d50504",
   "outputs": [],
   "execution_count": 14
  },
  {
   "metadata": {
    "ExecuteTime": {
     "end_time": "2025-01-05T13:50:17.889050Z",
     "start_time": "2025-01-04T21:20:59.749534Z"
    }
   },
   "cell_type": "code",
   "source": "trainer.fit(model, data_module, ckpt_path=\"last\")",
   "id": "de16c9867e4af9bf",
   "outputs": [
    {
     "name": "stderr",
     "output_type": "stream",
     "text": [
      "C:\\Users\\jedra\\anaconda3\\envs\\KE\\Lib\\site-packages\\lightning\\pytorch\\callbacks\\model_checkpoint.py:654: Checkpoint directory D:\\Side-Projects\\SMILESculptor\\checkpoints\\VAE-nbook-ce-step_scheduler15-BS_2048_v1 exists and is not empty.\n",
      "Restoring states from the checkpoint path at D:\\Side-Projects\\SMILESculptor\\checkpoints\\VAE-nbook-ce-step_scheduler15-BS_2048_v1\\last.ckpt\n",
      "LOCAL_RANK: 0 - CUDA_VISIBLE_DEVICES: [0]\n",
      "\n",
      "  | Name                  | Type               | Params | Mode \n",
      "---------------------------------------------------------------------\n",
      "0 | model                 | MOVAE              | 4.7 M  | train\n",
      "1 | bce_loss              | BCEWithLogitsLoss  | 0      | train\n",
      "2 | ce_loss               | CrossEntropyLoss   | 0      | train\n",
      "3 | perfect_recon_tracker | MeanMetric         | 0      | train\n",
      "4 | accuracy              | MulticlassAccuracy | 0      | train\n",
      "---------------------------------------------------------------------\n",
      "4.7 M     Trainable params\n",
      "0         Non-trainable params\n",
      "4.7 M     Total params\n",
      "18.778    Total estimated model params size (MB)\n",
      "33        Modules in train mode\n",
      "0         Modules in eval mode\n",
      "Restored all states from the checkpoint at D:\\Side-Projects\\SMILESculptor\\checkpoints\\VAE-nbook-ce-step_scheduler15-BS_2048_v1\\last.ckpt\n"
     ]
    },
    {
     "data": {
      "text/plain": [
       "Training: |          | 0/? [00:00<?, ?it/s]"
      ],
      "application/vnd.jupyter.widget-view+json": {
       "version_major": 2,
       "version_minor": 0,
       "model_id": "d8389636801344b3bc90d7db8d643acd"
      }
     },
     "metadata": {},
     "output_type": "display_data"
    },
    {
     "data": {
      "text/plain": [
       "Validation: |          | 0/? [00:00<?, ?it/s]"
      ],
      "application/vnd.jupyter.widget-view+json": {
       "version_major": 2,
       "version_minor": 0,
       "model_id": "3d907575df7547519e77dcdb06f8ff53"
      }
     },
     "metadata": {},
     "output_type": "display_data"
    },
    {
     "data": {
      "text/plain": [
       "Validation: |          | 0/? [00:00<?, ?it/s]"
      ],
      "application/vnd.jupyter.widget-view+json": {
       "version_major": 2,
       "version_minor": 0,
       "model_id": "e7278b68fc7e461d9767dbbf51085073"
      }
     },
     "metadata": {},
     "output_type": "display_data"
    },
    {
     "data": {
      "text/plain": [
       "Validation: |          | 0/? [00:00<?, ?it/s]"
      ],
      "application/vnd.jupyter.widget-view+json": {
       "version_major": 2,
       "version_minor": 0,
       "model_id": "c0b05a0df9104bdaab7cceff467edda5"
      }
     },
     "metadata": {},
     "output_type": "display_data"
    },
    {
     "data": {
      "text/plain": [
       "Validation: |          | 0/? [00:00<?, ?it/s]"
      ],
      "application/vnd.jupyter.widget-view+json": {
       "version_major": 2,
       "version_minor": 0,
       "model_id": "461fd85132d84e5683d609a0a708ca83"
      }
     },
     "metadata": {},
     "output_type": "display_data"
    },
    {
     "data": {
      "text/plain": [
       "Validation: |          | 0/? [00:00<?, ?it/s]"
      ],
      "application/vnd.jupyter.widget-view+json": {
       "version_major": 2,
       "version_minor": 0,
       "model_id": "bc07492c46314c469abaee9aed5deaf9"
      }
     },
     "metadata": {},
     "output_type": "display_data"
    },
    {
     "data": {
      "text/plain": [
       "Validation: |          | 0/? [00:00<?, ?it/s]"
      ],
      "application/vnd.jupyter.widget-view+json": {
       "version_major": 2,
       "version_minor": 0,
       "model_id": "0bf8da6331624dd18764a111ffad0aa1"
      }
     },
     "metadata": {},
     "output_type": "display_data"
    },
    {
     "data": {
      "text/plain": [
       "Validation: |          | 0/? [00:00<?, ?it/s]"
      ],
      "application/vnd.jupyter.widget-view+json": {
       "version_major": 2,
       "version_minor": 0,
       "model_id": "06d267e4cd14492ab3d819f6d0952abd"
      }
     },
     "metadata": {},
     "output_type": "display_data"
    },
    {
     "data": {
      "text/plain": [
       "Validation: |          | 0/? [00:00<?, ?it/s]"
      ],
      "application/vnd.jupyter.widget-view+json": {
       "version_major": 2,
       "version_minor": 0,
       "model_id": "6a0cccd8f17e48aba4caae0e188d0f7e"
      }
     },
     "metadata": {},
     "output_type": "display_data"
    },
    {
     "data": {
      "text/plain": [
       "Validation: |          | 0/? [00:00<?, ?it/s]"
      ],
      "application/vnd.jupyter.widget-view+json": {
       "version_major": 2,
       "version_minor": 0,
       "model_id": "484c26a3821740f3af6f1e534df2baf8"
      }
     },
     "metadata": {},
     "output_type": "display_data"
    },
    {
     "data": {
      "text/plain": [
       "Validation: |          | 0/? [00:00<?, ?it/s]"
      ],
      "application/vnd.jupyter.widget-view+json": {
       "version_major": 2,
       "version_minor": 0,
       "model_id": "905eb54b094b48098bc2e37ada6f6a1f"
      }
     },
     "metadata": {},
     "output_type": "display_data"
    },
    {
     "data": {
      "text/plain": [
       "Validation: |          | 0/? [00:00<?, ?it/s]"
      ],
      "application/vnd.jupyter.widget-view+json": {
       "version_major": 2,
       "version_minor": 0,
       "model_id": "a88e673704fb48a195a3e4d1210c954c"
      }
     },
     "metadata": {},
     "output_type": "display_data"
    },
    {
     "data": {
      "text/plain": [
       "Validation: |          | 0/? [00:00<?, ?it/s]"
      ],
      "application/vnd.jupyter.widget-view+json": {
       "version_major": 2,
       "version_minor": 0,
       "model_id": "09000fcf951845f8afab8105342a1fa5"
      }
     },
     "metadata": {},
     "output_type": "display_data"
    },
    {
     "data": {
      "text/plain": [
       "Validation: |          | 0/? [00:00<?, ?it/s]"
      ],
      "application/vnd.jupyter.widget-view+json": {
       "version_major": 2,
       "version_minor": 0,
       "model_id": "5af50f5c2ca6420988cd420d276a55e3"
      }
     },
     "metadata": {},
     "output_type": "display_data"
    },
    {
     "data": {
      "text/plain": [
       "Validation: |          | 0/? [00:00<?, ?it/s]"
      ],
      "application/vnd.jupyter.widget-view+json": {
       "version_major": 2,
       "version_minor": 0,
       "model_id": "8f54d5ba355d4455bcae64a6161849d9"
      }
     },
     "metadata": {},
     "output_type": "display_data"
    },
    {
     "data": {
      "text/plain": [
       "Validation: |          | 0/? [00:00<?, ?it/s]"
      ],
      "application/vnd.jupyter.widget-view+json": {
       "version_major": 2,
       "version_minor": 0,
       "model_id": "3f36f6d09d3e4e2aa01a894781c9ac0a"
      }
     },
     "metadata": {},
     "output_type": "display_data"
    },
    {
     "data": {
      "text/plain": [
       "Validation: |          | 0/? [00:00<?, ?it/s]"
      ],
      "application/vnd.jupyter.widget-view+json": {
       "version_major": 2,
       "version_minor": 0,
       "model_id": "e8cd84ff12664c1abf146ee272d19606"
      }
     },
     "metadata": {},
     "output_type": "display_data"
    },
    {
     "data": {
      "text/plain": [
       "Validation: |          | 0/? [00:00<?, ?it/s]"
      ],
      "application/vnd.jupyter.widget-view+json": {
       "version_major": 2,
       "version_minor": 0,
       "model_id": "e8607635ba3d4bb6b8c9997151806479"
      }
     },
     "metadata": {},
     "output_type": "display_data"
    },
    {
     "data": {
      "text/plain": [
       "Validation: |          | 0/? [00:00<?, ?it/s]"
      ],
      "application/vnd.jupyter.widget-view+json": {
       "version_major": 2,
       "version_minor": 0,
       "model_id": "d9827fe1d67d4df4b9b3572643523005"
      }
     },
     "metadata": {},
     "output_type": "display_data"
    },
    {
     "data": {
      "text/plain": [
       "Validation: |          | 0/? [00:00<?, ?it/s]"
      ],
      "application/vnd.jupyter.widget-view+json": {
       "version_major": 2,
       "version_minor": 0,
       "model_id": "9b67874acca64791bc444810cc85c37b"
      }
     },
     "metadata": {},
     "output_type": "display_data"
    },
    {
     "data": {
      "text/plain": [
       "Validation: |          | 0/? [00:00<?, ?it/s]"
      ],
      "application/vnd.jupyter.widget-view+json": {
       "version_major": 2,
       "version_minor": 0,
       "model_id": "22b45493cf3f4d91836c40e27c9ea94a"
      }
     },
     "metadata": {},
     "output_type": "display_data"
    },
    {
     "name": "stderr",
     "output_type": "stream",
     "text": [
      "`Trainer.fit` stopped: `max_epochs=120` reached.\n"
     ]
    }
   ],
   "execution_count": 15
  },
  {
   "metadata": {
    "ExecuteTime": {
     "end_time": "2025-01-05T13:50:45.028254Z",
     "start_time": "2025-01-05T13:50:17.990087Z"
    }
   },
   "cell_type": "code",
   "source": "trainer.test(model, dataloaders=data_module)",
   "id": "2ea2d02d66ffad",
   "outputs": [
    {
     "name": "stderr",
     "output_type": "stream",
     "text": [
      "LOCAL_RANK: 0 - CUDA_VISIBLE_DEVICES: [0]\n"
     ]
    },
    {
     "data": {
      "text/plain": [
       "Testing: |          | 0/? [00:00<?, ?it/s]"
      ],
      "application/vnd.jupyter.widget-view+json": {
       "version_major": 2,
       "version_minor": 0,
       "model_id": "85d05f4bfb5f4cfca7a7965bce123f91"
      }
     },
     "metadata": {},
     "output_type": "display_data"
    },
    {
     "name": "stdout",
     "output_type": "stream",
     "text": [
      "────────────────────────────────────────────────────────────────────────────────────────────────────────────────────────\r\n",
      "         Test metric                 DataLoader 0\r\n",
      "────────────────────────────────────────────────────────────────────────────────────────────────────────────────────────\r\n",
      "  test/binary_ce_recon_loss       1.8101484775543213\r\n",
      "test/cross_entropy_recon_loss     0.16551443934440613\r\n",
      "        test/kl_loss              0.06992951035499573\r\n",
      "          test/loss               0.16551443934440613\r\n",
      "────────────────────────────────────────────────────────────────────────────────────────────────────────────────────────\n"
     ]
    },
    {
     "data": {
      "text/plain": [
       "[{'test/binary_ce_recon_loss': 1.8101484775543213,\n",
       "  'test/cross_entropy_recon_loss': 0.16551443934440613,\n",
       "  'test/kl_loss': 0.06992951035499573,\n",
       "  'test/loss': 0.16551443934440613}]"
      ]
     },
     "execution_count": 16,
     "metadata": {},
     "output_type": "execute_result"
    }
   ],
   "execution_count": 16
  },
  {
   "metadata": {
    "ExecuteTime": {
     "end_time": "2025-01-05T13:50:47.732124Z",
     "start_time": "2025-01-05T13:50:45.453798Z"
    }
   },
   "cell_type": "code",
   "source": [
    "import wandb\n",
    "wandb.finish()"
   ],
   "id": "1aee429cb884996f",
   "outputs": [
    {
     "data": {
      "text/plain": [
       "<IPython.core.display.HTML object>"
      ],
      "text/html": [
       "\n",
       "    <style>\n",
       "        .wandb-row {\n",
       "            display: flex;\n",
       "            flex-direction: row;\n",
       "            flex-wrap: wrap;\n",
       "            justify-content: flex-start;\n",
       "            width: 100%;\n",
       "        }\n",
       "        .wandb-col {\n",
       "            display: flex;\n",
       "            flex-direction: column;\n",
       "            flex-basis: 100%;\n",
       "            flex: 1;\n",
       "            padding: 10px;\n",
       "        }\n",
       "    </style>\n",
       "<div class=\"wandb-row\"><div class=\"wandb-col\"><h3>Run history:</h3><br/><table class=\"wandb\"><tr><td>epoch</td><td>▁▁▂▂▂▂▃▃▃▃▄▄▄▄▄▄▅▅▅▅▅▅▅▅▅▆▆▆▇▇▇▇▇▇▇▇▇███</td></tr><tr><td>test/accuracy</td><td>▁</td></tr><tr><td>test/binary_ce_recon_loss</td><td>▁</td></tr><tr><td>test/cross_entropy_recon_loss</td><td>▁</td></tr><tr><td>test/f1</td><td>▁</td></tr><tr><td>test/kl_loss</td><td>▁</td></tr><tr><td>test/loss</td><td>▁</td></tr><tr><td>test/perfect_reconstruction</td><td>▁</td></tr><tr><td>test/precision</td><td>▁</td></tr><tr><td>test/recall</td><td>▁</td></tr><tr><td>train/binary_ce_recon_loss</td><td>▂▅▂▆▃▆▆▅▅▄▅▄▄▃▅▅▁▄▅▅▆▅▅█▂▆▅▆▅▇▆▆▆▄▇▇▆▅▆█</td></tr><tr><td>train/cross_entropy_recon_loss</td><td>▇▃▄▅▄▃▄▄▃▃▂▃█▅▃▄▄▂▂▄▄▂▃▃▃▃▂▃▃▄▆▂▂▁▂▃▂▃█▃</td></tr><tr><td>train/kl_loss</td><td>▃▄▄▃█▃▄▆▆▃▃▂▅█▃▃▂▃▃▄▄▃▆▆▃▃▃▅▄▅▁▆▅▂▂▅▂▁▇▃</td></tr><tr><td>train/loss</td><td>▃▃▄▇▂▅▂▆▄▆▆▁█▅▆▂▁▂▃▃▁▃▃▇▅▄▄▄▁▃▃▃▄▃▆▃▃▂▄▅</td></tr><tr><td>train/lr</td><td>██████████▁▁▁▁▁▁▁▁▁▁▁▁▁▁▁▁▁▁▁▁▁▁▁▁▁▁▁▁▁▁</td></tr><tr><td>train_epoch/accuracy</td><td>▁▃▁▃▄▆▅▅▅▇▆▇▅▇▇▆▇▇██</td></tr><tr><td>train_epoch/f1</td><td>▂▁▁▄▄▄▅▄▄▆▅▅▆▆█▆▅▆▅▆</td></tr><tr><td>train_epoch/perfect_reconstruction</td><td>▁▄▂▃▄▅▆▅▅█▇▇▆▇█▆▇██▇</td></tr><tr><td>train_epoch/precision</td><td>▅▁▅▇▇▇▆▇▇▇▆▃▇▂█▄▄▆▆▆</td></tr><tr><td>train_epoch/recall</td><td>▂▁▁▄▅▅▅▄▅▆▅▅▆▇█▇▅▇▆▇</td></tr><tr><td>trainer/global_step</td><td>▁▁▁▁▁▂▂▂▂▃▃▃▃▃▃▄▄▄▄▄▄▄▅▅▅▅▅▅▅▆▆▆▇▇▇█████</td></tr><tr><td>val/accuracy</td><td>▅▆▆▇▆▆▆▅▄▇█▁▁▇▇▇▇▇▇▇</td></tr><tr><td>val/binary_ce_recon_loss</td><td>█▅▄▇▇▇▅▇▇█▇▁▁█▅██▇▇█</td></tr><tr><td>val/cross_entropy_recon_loss</td><td>▂▅▅▂▂▁▃▁▁▂▃██▁▄▁▁▁▁▁</td></tr><tr><td>val/f1</td><td>▇▇▅▇▇▇▆▇▇██▁▁█▆███▇█</td></tr><tr><td>val/kl_loss</td><td>▃▇█▅▄▃▅▂▁▅▇▆▅▄█▄▅▅▄▄</td></tr><tr><td>val/loss</td><td>▂▅▅▂▂▁▃▁▁▂▃██▁▄▁▁▁▁▁</td></tr><tr><td>val/lr</td><td>████▃▃▃▃▃▃▃▃▃▃▃▃▃▃▃▁</td></tr><tr><td>val/perfect_reconstruction</td><td>▄▆▆▇▆▅▆▅▃▇█▁▁▇▇▆▇▇▇▆</td></tr><tr><td>val/precision</td><td>▁▃▃▁▇██▁▂█▂▃▃▇▃▇▂▂▂▂</td></tr><tr><td>val/recall</td><td>▇▆▅▇▇▇▆▇▇██▁▁█▆███▇█</td></tr></table><br/></div><div class=\"wandb-col\"><h3>Run summary:</h3><br/><table class=\"wandb\"><tr><td>epoch</td><td>120</td></tr><tr><td>test/accuracy</td><td>0.9692</td></tr><tr><td>test/binary_ce_recon_loss</td><td>1.81015</td></tr><tr><td>test/cross_entropy_recon_loss</td><td>0.16551</td></tr><tr><td>test/f1</td><td>0.84216</td></tr><tr><td>test/kl_loss</td><td>0.06993</td></tr><tr><td>test/loss</td><td>0.16551</td></tr><tr><td>test/perfect_reconstruction</td><td>0.4961</td></tr><tr><td>test/precision</td><td>0.91668</td></tr><tr><td>test/recall</td><td>0.81982</td></tr><tr><td>train/binary_ce_recon_loss</td><td>1.82963</td></tr><tr><td>train/cross_entropy_recon_loss</td><td>0.28842</td></tr><tr><td>train/kl_loss</td><td>0.07904</td></tr><tr><td>train/loss</td><td>0.28842</td></tr><tr><td>train/lr</td><td>1e-05</td></tr><tr><td>train_epoch/accuracy</td><td>0.95496</td></tr><tr><td>train_epoch/f1</td><td>0.81929</td></tr><tr><td>train_epoch/perfect_reconstruction</td><td>0.2985</td></tr><tr><td>train_epoch/precision</td><td>0.8846</td></tr><tr><td>train_epoch/recall</td><td>0.79835</td></tr><tr><td>trainer/global_step</td><td>23520</td></tr><tr><td>val/accuracy</td><td>0.96997</td></tr><tr><td>val/binary_ce_recon_loss</td><td>1.81017</td></tr><tr><td>val/cross_entropy_recon_loss</td><td>0.16338</td></tr><tr><td>val/f1</td><td>0.84821</td></tr><tr><td>val/kl_loss</td><td>0.07001</td></tr><tr><td>val/loss</td><td>0.16338</td></tr><tr><td>val/lr</td><td>0.0</td></tr><tr><td>val/perfect_reconstruction</td><td>0.49747</td></tr><tr><td>val/precision</td><td>0.89086</td></tr><tr><td>val/recall</td><td>0.82494</td></tr></table><br/></div></div>"
      ]
     },
     "metadata": {},
     "output_type": "display_data"
    },
    {
     "data": {
      "text/plain": [
       "<IPython.core.display.HTML object>"
      ],
      "text/html": [
       " View run <strong style=\"color:#cdcd00\">VAE-nbook-ce-step_scheduler15-BS_2048_v1</strong> at: <a href='https://wandb.ai/jedrasowicz/MolsVAE/runs/ovca3kfy' target=\"_blank\">https://wandb.ai/jedrasowicz/MolsVAE/runs/ovca3kfy</a><br/> View project at: <a href='https://wandb.ai/jedrasowicz/MolsVAE' target=\"_blank\">https://wandb.ai/jedrasowicz/MolsVAE</a><br/>Synced 5 W&B file(s), 0 media file(s), 6 artifact file(s) and 82 other file(s)"
      ]
     },
     "metadata": {},
     "output_type": "display_data"
    },
    {
     "data": {
      "text/plain": [
       "<IPython.core.display.HTML object>"
      ],
      "text/html": [
       "Find logs at: <code>.\\wandb\\run-20250104_222048-ovca3kfy\\logs</code>"
      ]
     },
     "metadata": {},
     "output_type": "display_data"
    }
   ],
   "execution_count": 17
  },
  {
   "metadata": {
    "ExecuteTime": {
     "end_time": "2025-01-05T13:50:47.748110Z",
     "start_time": "2025-01-05T13:50:47.745105Z"
    }
   },
   "cell_type": "code",
   "source": "",
   "id": "831507dc86ec90fb",
   "outputs": [],
   "execution_count": null
  }
 ],
 "metadata": {
  "kernelspec": {
   "display_name": "Python 3",
   "language": "python",
   "name": "python3"
  },
  "language_info": {
   "codemirror_mode": {
    "name": "ipython",
    "version": 2
   },
   "file_extension": ".py",
   "mimetype": "text/x-python",
   "name": "python",
   "nbconvert_exporter": "python",
   "pygments_lexer": "ipython2",
   "version": "2.7.6"
  }
 },
 "nbformat": 4,
 "nbformat_minor": 5
}
